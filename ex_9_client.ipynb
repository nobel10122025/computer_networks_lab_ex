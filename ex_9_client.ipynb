{
 "cells": [
  {
   "cell_type": "code",
   "execution_count": null,
   "metadata": {},
   "outputs": [],
   "source": [
    "import socket\n",
    "c=socket.socket()\n",
    "host=socket.gethostname()\n",
    "port=6666\n",
    "c.connect((host,port))\n",
    "while True:\n",
    "   cmd=input(\"enter the command :\")\n",
    "   c.send(cmd.encode())\n",
    "   print(\"command has been sent to the server\")\n",
    "   break"
   ]
  }
 ],
 "metadata": {
  "kernelspec": {
   "display_name": "Python 3",
   "language": "python",
   "name": "python3"
  },
  "language_info": {
   "codemirror_mode": {
    "name": "ipython",
    "version": 3
   },
   "file_extension": ".py",
   "mimetype": "text/x-python",
   "name": "python",
   "nbconvert_exporter": "python",
   "pygments_lexer": "ipython3",
   "version": "3.8.5"
  }
 },
 "nbformat": 4,
 "nbformat_minor": 4
}
