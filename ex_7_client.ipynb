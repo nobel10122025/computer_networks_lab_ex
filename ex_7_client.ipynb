{
 "cells": [
  {
   "cell_type": "code",
   "execution_count": null,
   "metadata": {},
   "outputs": [],
   "source": [
    "import socket\n",
    "import threading\n",
    "c=socket.socket()\n",
    "host=socket.gethostname()\n",
    "port=6666\n",
    "c.connect((host,port))\n",
    "\n",
    "def send():\n",
    "   while True:\n",
    "       message_s=input(\"enter you message :\")\n",
    "       c.send(message_s.encode())\n",
    "\n",
    "def receive():\n",
    "   while True:\n",
    "       message_r = c.recv(1024).decode()\n",
    "       if not message_r :\n",
    "           print(\"ending the connection.\")\n",
    "           break\n",
    "\n",
    "       print()\n",
    "       print(\"server side: \" + message_r)\n",
    "t1 = threading.Thread(target = send , name = 1)\n",
    "t2 = threading.Thread(target = receive , name = 2)\n",
    "\n",
    "t1.start()\n",
    "t2.start()\n"
   ]
  }
 ],
 "metadata": {
  "kernelspec": {
   "display_name": "Python 3",
   "language": "python",
   "name": "python3"
  },
  "language_info": {
   "codemirror_mode": {
    "name": "ipython",
    "version": 3
   },
   "file_extension": ".py",
   "mimetype": "text/x-python",
   "name": "python",
   "nbconvert_exporter": "python",
   "pygments_lexer": "ipython3",
   "version": "3.8.5"
  }
 },
 "nbformat": 4,
 "nbformat_minor": 4
}
