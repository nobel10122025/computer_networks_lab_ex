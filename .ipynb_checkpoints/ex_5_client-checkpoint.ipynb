{
 "cells": [
  {
   "cell_type": "code",
   "execution_count": null,
   "metadata": {},
   "outputs": [],
   "source": [
    "import socket\n",
    "c=socket.socket()\n",
    "host=socket.gethostname()\n",
    "port=6666\n",
    "c.connect((host,port))\n",
    "while True:\n",
    "   sentence=input(\"enter a string: \")\n",
    "   if sentence != \"00000\":\n",
    "       c.send(sentence.encode())\n",
    "       #print(\"the string that is sent:\" + sentence)\n",
    "       sentence_1=c.recv(1024).decode()\n",
    "       print(\"the current time is \" + sentence_1)\n",
    "   else:\n",
    "       c.send(sentence.encode())\n",
    "       #socket.close()\n",
    "       break\n"
   ]
  }
 ],
 "metadata": {
  "kernelspec": {
   "display_name": "Python 3",
   "language": "python",
   "name": "python3"
  },
  "language_info": {
   "codemirror_mode": {
    "name": "ipython",
    "version": 3
   },
   "file_extension": ".py",
   "mimetype": "text/x-python",
   "name": "python",
   "nbconvert_exporter": "python",
   "pygments_lexer": "ipython3",
   "version": "3.8.5"
  }
 },
 "nbformat": 4,
 "nbformat_minor": 4
}
