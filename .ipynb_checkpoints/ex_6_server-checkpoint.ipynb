{
 "cells": [
  {
   "cell_type": "code",
   "execution_count": null,
   "metadata": {},
   "outputs": [],
   "source": [
    "s=socket.socket()\n",
    "host=socket.gethostname()\n",
    "port=6666\n",
    "s.bind((host,port))\n",
    "s.listen(5)\n",
    "print(\"waiting for connection...\")\n",
    "socket_connection , address= s.accept()\n",
    "while True:\n",
    "   message=socket_connection.recv(1024).decode()\n",
    "   if message == \"00000\":\n",
    "       break\n",
    "       socket.close()\n",
    "   print(\"Client side : \" + message)\n",
    "   message_1=input(\"enter your message:\")\n",
    "   socket_connection.send(message_1.encode())\n"
   ]
  }
 ],
 "metadata": {
  "kernelspec": {
   "display_name": "Python 3",
   "language": "python",
   "name": "python3"
  },
  "language_info": {
   "codemirror_mode": {
    "name": "ipython",
    "version": 3
   },
   "file_extension": ".py",
   "mimetype": "text/x-python",
   "name": "python",
   "nbconvert_exporter": "python",
   "pygments_lexer": "ipython3",
   "version": "3.8.5"
  }
 },
 "nbformat": 4,
 "nbformat_minor": 4
}
