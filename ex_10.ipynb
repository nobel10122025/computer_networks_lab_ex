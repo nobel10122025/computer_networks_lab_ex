{
 "cells": [
  {
   "cell_type": "code",
   "execution_count": null,
   "metadata": {},
   "outputs": [],
   "source": [
    "pip install getmac"
   ]
  },
  {
   "cell_type": "code",
   "execution_count": null,
   "metadata": {},
   "outputs": [],
   "source": [
    "from getmac import get_mac_address\n",
    "import os\n",
    "import socket\n",
    "s=socket.socket()\n",
    "host=socket.gethostname()\n",
    "ip_address=socket.gethostbyname(host)\n",
    "print(\"IP address is : \" + ip_address)\n",
    "cmd=\"ping \"+ip_address\n",
    "print(os.system(cmd))\n",
    "print(\"hardware address :\" + ip_address +\" \")\n",
    "mac_address=get_mac_address()\n",
    "print(\"the mac address is : \" + mac_address)"
   ]
  }
 ],
 "metadata": {
  "kernelspec": {
   "display_name": "Python 3",
   "language": "python",
   "name": "python3"
  },
  "language_info": {
   "codemirror_mode": {
    "name": "ipython",
    "version": 3
   },
   "file_extension": ".py",
   "mimetype": "text/x-python",
   "name": "python",
   "nbconvert_exporter": "python",
   "pygments_lexer": "ipython3",
   "version": "3.8.5"
  }
 },
 "nbformat": 4,
 "nbformat_minor": 4
}
