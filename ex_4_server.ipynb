{
 "cells": [
  {
   "cell_type": "code",
   "execution_count": null,
   "metadata": {},
   "outputs": [],
   "source": [
    "import socket\n",
    "s=socket.socket()\n",
    "host=socket.gethostname()\n",
    "port=6666\n",
    "s.bind((host,port))\n",
    "s.listen(5)\n",
    "print(\"waiting for connection...\")\n",
    "socket_connection , address= s.accept()\n",
    "while True:\n",
    "   sentence=socket_connection.recv(1024).decode()\n",
    "   if sentence != \"00000\":\n",
    "       print(\"the message received is \" + sentence)\n",
    "       socket_connection.send(sentence.encode())\n",
    "   else:\n",
    "       #socket.close()\n",
    "       break\n"
   ]
  }
 ],
 "metadata": {
  "kernelspec": {
   "display_name": "Python 3",
   "language": "python",
   "name": "python3"
  },
  "language_info": {
   "codemirror_mode": {
    "name": "ipython",
    "version": 3
   },
   "file_extension": ".py",
   "mimetype": "text/x-python",
   "name": "python",
   "nbconvert_exporter": "python",
   "pygments_lexer": "ipython3",
   "version": "3.8.5"
  }
 },
 "nbformat": 4,
 "nbformat_minor": 4
}
