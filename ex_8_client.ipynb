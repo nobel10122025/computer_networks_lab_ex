{
 "cells": [
  {
   "cell_type": "code",
   "execution_count": null,
   "metadata": {},
   "outputs": [],
   "source": [
    "import socket\n",
    "\n",
    "c=socket.socket()\n",
    "host=socket.gethostname()\n",
    "port=6666\n",
    "c.connect((host,port))\n",
    "x=0\n",
    "while x<1:\n",
    "   file_path=input(\"enter file path: \")\n",
    "   c.send(file_path.encode())\n",
    "   x=x+1\n",
    "   message_r=c.recv(1024).decode()\n",
    "   if message_r == \"EOF\":\n",
    "       print(\"Connection terminated\")\n",
    "       break\n",
    "   else:\n",
    "       print(message_r)\n"
   ]
  }
 ],
 "metadata": {
  "kernelspec": {
   "display_name": "Python 3",
   "language": "python",
   "name": "python3"
  },
  "language_info": {
   "codemirror_mode": {
    "name": "ipython",
    "version": 3
   },
   "file_extension": ".py",
   "mimetype": "text/x-python",
   "name": "python",
   "nbconvert_exporter": "python",
   "pygments_lexer": "ipython3",
   "version": "3.8.5"
  }
 },
 "nbformat": 4,
 "nbformat_minor": 4
}
